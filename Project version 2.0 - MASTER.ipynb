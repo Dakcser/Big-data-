{
 "cells": [
  {
   "cell_type": "code",
   "execution_count": 25,
   "metadata": {
    "ExecuteTime": {
     "end_time": "2020-05-12T18:27:27.139146Z",
     "start_time": "2020-05-12T18:27:27.123425Z"
    }
   },
   "outputs": [],
   "source": [
    "%matplotlib inline\n",
    "%config InlineBackend.figure_format = 'retina'\n",
    "from IPython.core.interactiveshell import InteractiveShell\n",
    "InteractiveShell.ast_node_interactivity = \"all\"\n",
    "import sys\n",
    "from pyspark.sql import SparkSession\n",
    "\n",
    "#Let’s create sparkSession now to access functionalities of Spark\n",
    "\n",
    "spark = SparkSession.builder \\\n",
    ".master(\"spark://10.130.10.80:7077\") \\\n",
    ".appName(\"Project_main\") \\\n",
    ".getOrCreate()"
   ]
  },
  {
   "cell_type": "code",
   "execution_count": 26,
   "metadata": {
    "ExecuteTime": {
     "end_time": "2020-05-12T18:27:29.922364Z",
     "start_time": "2020-05-12T18:27:29.917694Z"
    }
   },
   "outputs": [
    {
     "data": {
      "text/plain": [
       "'/mnt/project-cluster-group22-pvc'"
      ]
     },
     "execution_count": 26,
     "metadata": {},
     "output_type": "execute_result"
    }
   ],
   "source": [
    "pwd"
   ]
  },
  {
   "cell_type": "code",
   "execution_count": 27,
   "metadata": {
    "ExecuteTime": {
     "end_time": "2020-05-12T18:27:32.827492Z",
     "start_time": "2020-05-12T18:27:32.820570Z"
    }
   },
   "outputs": [],
   "source": [
    "import pandas as pd\n",
    "from pyspark.sql import functions as F\n",
    "\n",
    "graph_df = pd.DataFrame(columns=['Day', '2020'])"
   ]
  },
  {
   "cell_type": "code",
   "execution_count": 28,
   "metadata": {
    "ExecuteTime": {
     "end_time": "2020-05-12T18:27:44.527872Z",
     "start_time": "2020-05-12T18:27:35.523081Z"
    }
   },
   "outputs": [],
   "source": [
    "# Read file lam_data_ppohjanmaa.csv \n",
    "df = spark.read.csv(\"/mnt/project-cluster-group22-pvc/lam_data_uusimaa_20/LAM_data_day75.csv\", header=True, inferSchema=True, sep=\";\")"
   ]
  },
  {
   "cell_type": "code",
   "execution_count": 34,
   "metadata": {
    "ExecuteTime": {
     "end_time": "2020-05-12T18:43:53.694960Z",
     "start_time": "2020-05-12T18:43:53.684715Z"
    }
   },
   "outputs": [
    {
     "data": {
      "text/plain": [
       "DataFrame[category: int]"
      ]
     },
     "execution_count": 34,
     "metadata": {},
     "output_type": "execute_result"
    }
   ],
   "source": [
    "df.select(F.col(\"category\"))"
   ]
  },
  {
   "cell_type": "code",
   "execution_count": 39,
   "metadata": {
    "ExecuteTime": {
     "end_time": "2020-05-12T19:01:46.221012Z",
     "start_time": "2020-05-12T19:01:46.047278Z"
    }
   },
   "outputs": [
    {
     "name": "stdout",
     "output_type": "stream",
     "text": [
      "+--------+\n",
      "|category|\n",
      "+--------+\n",
      "|       5|\n",
      "|       5|\n",
      "|       5|\n",
      "|       5|\n",
      "|       1|\n",
      "|       5|\n",
      "|       1|\n",
      "|       1|\n",
      "|       4|\n",
      "|       1|\n",
      "|       1|\n",
      "|       1|\n",
      "|       5|\n",
      "|       5|\n",
      "|       4|\n",
      "|       1|\n",
      "|       1|\n",
      "|       5|\n",
      "|       1|\n",
      "|       1|\n",
      "+--------+\n",
      "only showing top 20 rows\n",
      "\n"
     ]
    }
   ],
   "source": [
    "df.select(\"category\").show()"
   ]
  },
  {
   "cell_type": "code",
   "execution_count": 47,
   "metadata": {
    "ExecuteTime": {
     "end_time": "2020-05-12T19:05:40.819890Z",
     "start_time": "2020-05-12T19:05:36.739718Z"
    }
   },
   "outputs": [
    {
     "name": "stdout",
     "output_type": "stream",
     "text": [
      "+--------+-------+\n",
      "|category|  count|\n",
      "+--------+-------+\n",
      "|       1|2563660|\n",
      "|       6|  46711|\n",
      "|       3|  13553|\n",
      "|       5|  91969|\n",
      "|       4|  72133|\n",
      "|       7|  11669|\n",
      "|       2| 118264|\n",
      "|       0|   1274|\n",
      "+--------+-------+\n",
      "\n"
     ]
    }
   ],
   "source": [
    "df.groupBy('category').count().show()"
   ]
  },
  {
   "cell_type": "code",
   "execution_count": 40,
   "metadata": {
    "ExecuteTime": {
     "end_time": "2020-05-12T19:05:35.955596Z",
     "start_time": "2020-05-12T19:01:46.223225Z"
    },
    "code_folding": []
   },
   "outputs": [],
   "source": [
    "#Patches data\n",
    "for day_number in range(75, 121):\n",
    "    df = spark.read.csv(\"/mnt/project-cluster-group22-pvc/lam_data_uusimaa_20/LAM_data_day{}.csv\".format(day_number), header=True, inferSchema=True, sep=\";\")\n",
    "    \n",
    "    vehicles20 = df.count()\n",
    "    graph_df.loc[day_number] = [day_number] + [vehicles20]\n"
   ]
  },
  {
   "cell_type": "code",
   "execution_count": 41,
   "metadata": {
    "ExecuteTime": {
     "end_time": "2020-05-12T19:05:35.965766Z",
     "start_time": "2020-05-12T19:05:35.957746Z"
    }
   },
   "outputs": [
    {
     "name": "stdout",
     "output_type": "stream",
     "text": [
      "    Day     2020\n",
      "75   75  1854274\n",
      "76   76  2783555\n",
      "77   77  2667721\n",
      "78   78  2541811\n",
      "79   79  2610718\n"
     ]
    }
   ],
   "source": [
    "print(graph_df.head())"
   ]
  },
  {
   "cell_type": "code",
   "execution_count": 42,
   "metadata": {
    "ExecuteTime": {
     "end_time": "2020-05-12T19:05:36.416607Z",
     "start_time": "2020-05-12T19:05:35.967969Z"
    }
   },
   "outputs": [
    {
     "data": {
      "text/plain": [
       "Text(0.5, 0, 'Day')"
      ]
     },
     "execution_count": 42,
     "metadata": {},
     "output_type": "execute_result"
    },
    {
     "data": {
      "text/plain": [
       "Text(0, 0.5, 'Vehicles on a road')"
      ]
     },
     "execution_count": 42,
     "metadata": {},
     "output_type": "execute_result"
    },
    {
     "data": {
      "text/plain": [
       "<matplotlib.axes._subplots.AxesSubplot at 0x7f431d4c8550>"
      ]
     },
     "execution_count": 42,
     "metadata": {},
     "output_type": "execute_result"
    },
    {
     "data": {
      "image/png": "[encoded data removed]",
      "text/plain": [
       "<Figure size 432x288 with 1 Axes>"
      ]
     },
     "metadata": {
      "image/png": {
       "height": 264,
       "width": 424
      },
      "needs_background": "light"
     },
     "output_type": "display_data"
    }
   ],
   "source": [
    "import matplotlib.pyplot as plt\n",
    "\n",
    "\n",
    "ax = plt.gca()\n",
    "ax.locator_params(integer=True)\n",
    "ax.set_xlabel(\"Day\")\n",
    "ax.set_ylabel(\"Vehicles on a road\")\n",
    "\n",
    "#graph_df.plot(kind='line',x='Day',y='2019',ax=ax)\n",
    "graph_df.plot(kind='line',x='Day',y='2020', color='red', ax=ax)\n",
    "\n",
    "plt.show()"
   ]
  },
  {
   "cell_type": "code",
   "execution_count": 43,
   "metadata": {
    "ExecuteTime": {
     "end_time": "2020-05-12T19:05:36.425461Z",
     "start_time": "2020-05-12T19:05:36.421531Z"
    }
   },
   "outputs": [
    {
     "data": {
      "text/plain": [
       "'/mnt/project-cluster-group22-pvc'"
      ]
     },
     "execution_count": 43,
     "metadata": {},
     "output_type": "execute_result"
    }
   ],
   "source": [
    "pwd"
   ]
  },
  {
   "cell_type": "code",
   "execution_count": 44,
   "metadata": {
    "ExecuteTime": {
     "end_time": "2020-05-12T19:05:36.716352Z",
     "start_time": "2020-05-12T19:05:36.429628Z"
    }
   },
   "outputs": [],
   "source": [
    "fig = ax.get_figure()\n",
    "fig.savefig('/mnt/project-cluster-group22-pvc/graph_ppohjanmaa.jpg', dpi=300)"
   ]
  },
  {
   "cell_type": "code",
   "execution_count": 45,
   "metadata": {
    "ExecuteTime": {
     "end_time": "2020-05-12T19:05:36.727886Z",
     "start_time": "2020-05-12T19:05:36.718421Z"
    }
   },
   "outputs": [
    {
     "data": {
      "text/html": [
       "<div>\n",
       "<style scoped>\n",
       "    .dataframe tbody tr th:only-of-type {\n",
       "        vertical-align: middle;\n",
       "    }\n",
       "\n",
       "    .dataframe tbody tr th {\n",
       "        vertical-align: top;\n",
       "    }\n",
       "\n",
       "    .dataframe thead th {\n",
       "        text-align: right;\n",
       "    }\n",
       "</style>\n",
       "<table border=\"1\" class=\"dataframe\">\n",
       "  <thead>\n",
       "    <tr style=\"text-align: right;\">\n",
       "      <th></th>\n",
       "      <th>Day</th>\n",
       "      <th>2020</th>\n",
       "    </tr>\n",
       "  </thead>\n",
       "  <tbody>\n",
       "    <tr>\n",
       "      <th>75</th>\n",
       "      <td>75</td>\n",
       "      <td>1854274</td>\n",
       "    </tr>\n",
       "    <tr>\n",
       "      <th>76</th>\n",
       "      <td>76</td>\n",
       "      <td>2783555</td>\n",
       "    </tr>\n",
       "    <tr>\n",
       "      <th>77</th>\n",
       "      <td>77</td>\n",
       "      <td>2667721</td>\n",
       "    </tr>\n",
       "    <tr>\n",
       "      <th>78</th>\n",
       "      <td>78</td>\n",
       "      <td>2541811</td>\n",
       "    </tr>\n",
       "    <tr>\n",
       "      <th>79</th>\n",
       "      <td>79</td>\n",
       "      <td>2610718</td>\n",
       "    </tr>\n",
       "  </tbody>\n",
       "</table>\n",
       "</div>"
      ],
      "text/plain": [
       "    Day     2020\n",
       "75   75  1854274\n",
       "76   76  2783555\n",
       "77   77  2667721\n",
       "78   78  2541811\n",
       "79   79  2610718"
      ]
     },
     "execution_count": 45,
     "metadata": {},
     "output_type": "execute_result"
    }
   ],
   "source": [
    "graph_df.head()"
   ]
  },
  {
   "cell_type": "code",
   "execution_count": 46,
   "metadata": {
    "ExecuteTime": {
     "end_time": "2020-05-12T19:05:36.737516Z",
     "start_time": "2020-05-12T19:05:36.729340Z"
    }
   },
   "outputs": [],
   "source": [
    "#Safes dataframe that we don't need to calculated every time\n",
    "graph_df.to_csv(\"Graph dataframe.csv\", index=False)"
   ]
  }
 ],
 "metadata": {
  "kernelspec": {
   "display_name": "Python 3",
   "language": "python",
   "name": "python3"
  },
  "language_info": {
   "codemirror_mode": {
    "name": "ipython",
    "version": 3
   },
   "file_extension": ".py",
   "mimetype": "text/x-python",
   "name": "python",
   "nbconvert_exporter": "python",
   "pygments_lexer": "ipython3",
   "version": "3.6.7"
  },
  "toc": {
   "base_numbering": 1,
   "nav_menu": {},
   "number_sections": true,
   "sideBar": true,
   "skip_h1_title": false,
   "title_cell": "Table of Contents",
   "title_sidebar": "Contents",
   "toc_cell": false,
   "toc_position": {},
   "toc_section_display": true,
   "toc_window_display": false
  }
 },
 "nbformat": 4,
 "nbformat_minor": 2
}
