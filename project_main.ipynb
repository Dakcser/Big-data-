{
 "cells": [
  {
   "cell_type": "code",
   "execution_count": 1,
   "metadata": {
    "ExecuteTime": {
     "end_time": "2020-05-04T20:41:48.230342Z",
     "start_time": "2020-05-04T20:41:41.117215Z"
    }
   },
   "outputs": [],
   "source": [
    "%matplotlib inline\n",
    "%config InlineBackend.figure_format = 'retina'\n",
    "from IPython.core.interactiveshell import InteractiveShell\n",
    "InteractiveShell.ast_node_interactivity = \"all\"\n",
    "import sys\n",
    "from pyspark.sql import SparkSession\n",
    "\n",
    "spark = SparkSession.builder \\\n",
    ".master(\"spark://10.130.10.80:7077\") \\\n",
    ".appName(\"Project_main\") \\\n",
    ".getOrCreate()"
   ]
  },
  {
   "cell_type": "code",
   "execution_count": 2,
   "metadata": {
    "ExecuteTime": {
     "end_time": "2020-05-04T20:41:48.238610Z",
     "start_time": "2020-05-04T20:41:48.233437Z"
    }
   },
   "outputs": [
    {
     "data": {
      "text/plain": [
       "'/mnt/project-cluster-group22-pvc'"
      ]
     },
     "execution_count": 2,
     "metadata": {},
     "output_type": "execute_result"
    }
   ],
   "source": [
    "pwd"
   ]
  },
  {
   "cell_type": "code",
   "execution_count": 3,
   "metadata": {
    "ExecuteTime": {
     "end_time": "2020-05-04T20:42:00.598077Z",
     "start_time": "2020-05-04T20:41:48.240101Z"
    }
   },
   "outputs": [],
   "source": [
    "# lam_data_ppohjanmaa.csv has data from 4 different LAM points\n",
    "df = spark.read.csv(\"/mnt/project-cluster-group22-pvc/lam_data_ppohjanmaa.csv\", header=True, inferSchema=True, sep=\";\")"
   ]
  },
  {
   "cell_type": "code",
   "execution_count": 4,
   "metadata": {
    "ExecuteTime": {
     "end_time": "2020-05-04T20:42:01.449297Z",
     "start_time": "2020-05-04T20:42:00.600556Z"
    }
   },
   "outputs": [
    {
     "name": "stdout",
     "output_type": "stream",
     "text": [
      "-RECORD 0--------------\n",
      " lam_point_id | 1052   \n",
      " year         | 20     \n",
      " day          | 1      \n",
      " hour         | 0      \n",
      " minute       | 0      \n",
      " second       | 22     \n",
      " 100th_second | 99     \n",
      " length       | 3.8    \n",
      " lane         | 2      \n",
      " direction    | 2      \n",
      " category     | 1      \n",
      " speed        | 87     \n",
      " faulty       | 0      \n",
      " total_time   | 2299   \n",
      " interval     | -2     \n",
      " queue_start  | 0      \n",
      "-RECORD 1--------------\n",
      " lam_point_id | 1052   \n",
      " year         | 20     \n",
      " day          | 1      \n",
      " hour         | 0      \n",
      " minute       | 0      \n",
      " second       | 56     \n",
      " 100th_second | 99     \n",
      " length       | 4.4    \n",
      " lane         | 1      \n",
      " direction    | 1      \n",
      " category     | 1      \n",
      " speed        | 75     \n",
      " faulty       | 0      \n",
      " total_time   | 5699   \n",
      " interval     | -2     \n",
      " queue_start  | 0      \n",
      "-RECORD 2--------------\n",
      " lam_point_id | 1052   \n",
      " year         | 20     \n",
      " day          | 1      \n",
      " hour         | 0      \n",
      " minute       | 2      \n",
      " second       | 35     \n",
      " 100th_second | 99     \n",
      " length       | 3.8    \n",
      " lane         | 1      \n",
      " direction    | 1      \n",
      " category     | 1      \n",
      " speed        | 72     \n",
      " faulty       | 0      \n",
      " total_time   | 15599  \n",
      " interval     | 9878   \n",
      " queue_start  | 0      \n",
      "-RECORD 3--------------\n",
      " lam_point_id | 1052   \n",
      " year         | 20     \n",
      " day          | 1      \n",
      " hour         | 0      \n",
      " minute       | 3      \n",
      " second       | 29     \n",
      " 100th_second | 18     \n",
      " length       | 3.8    \n",
      " lane         | 1      \n",
      " direction    | 1      \n",
      " category     | 1      \n",
      " speed        | 78     \n",
      " faulty       | 0      \n",
      " total_time   | 20918  \n",
      " interval     | 5300   \n",
      " queue_start  | 0      \n",
      "-RECORD 4--------------\n",
      " lam_point_id | 1052   \n",
      " year         | 20     \n",
      " day          | 1      \n",
      " hour         | 0      \n",
      " minute       | 8      \n",
      " second       | 11     \n",
      " 100th_second | 49     \n",
      " length       | 25.2   \n",
      " lane         | 2      \n",
      " direction    | 2      \n",
      " category     | 5      \n",
      " speed        | 83     \n",
      " faulty       | 0      \n",
      " total_time   | 49149  \n",
      " interval     | 46834  \n",
      " queue_start  | 0      \n",
      "-RECORD 5--------------\n",
      " lam_point_id | 1052   \n",
      " year         | 20     \n",
      " day          | 1      \n",
      " hour         | 0      \n",
      " minute       | 15     \n",
      " second       | 25     \n",
      " 100th_second | 99     \n",
      " length       | 3.4    \n",
      " lane         | 2      \n",
      " direction    | 2      \n",
      " category     | 1      \n",
      " speed        | 64     \n",
      " faulty       | 0      \n",
      " total_time   | 92599  \n",
      " interval     | 43340  \n",
      " queue_start  | 0      \n",
      "-RECORD 6--------------\n",
      " lam_point_id | 1052   \n",
      " year         | 20     \n",
      " day          | 1      \n",
      " hour         | 0      \n",
      " minute       | 15     \n",
      " second       | 39     \n",
      " 100th_second | 94     \n",
      " length       | 22.2   \n",
      " lane         | 1      \n",
      " direction    | 1      \n",
      " category     | 5      \n",
      " speed        | 80     \n",
      " faulty       | 0      \n",
      " total_time   | 93994  \n",
      " interval     | 73058  \n",
      " queue_start  | 0      \n",
      "-RECORD 7--------------\n",
      " lam_point_id | 1052   \n",
      " year         | 20     \n",
      " day          | 1      \n",
      " hour         | 0      \n",
      " minute       | 16     \n",
      " second       | 59     \n",
      " 100th_second | 19     \n",
      " length       | 4.0    \n",
      " lane         | 2      \n",
      " direction    | 2      \n",
      " category     | 1      \n",
      " speed        | 82     \n",
      " faulty       | 0      \n",
      " total_time   | 101919 \n",
      " interval     | 9300   \n",
      " queue_start  | 0      \n",
      "-RECORD 8--------------\n",
      " lam_point_id | 1052   \n",
      " year         | 20     \n",
      " day          | 1      \n",
      " hour         | 0      \n",
      " minute       | 17     \n",
      " second       | 1      \n",
      " 100th_second | 99     \n",
      " length       | 6.8    \n",
      " lane         | 2      \n",
      " direction    | 2      \n",
      " category     | 1      \n",
      " speed        | 86     \n",
      " faulty       | 0      \n",
      " total_time   | 102199 \n",
      " interval     | 262    \n",
      " queue_start  | 0      \n",
      "-RECORD 9--------------\n",
      " lam_point_id | 1052   \n",
      " year         | 20     \n",
      " day          | 1      \n",
      " hour         | 0      \n",
      " minute       | 21     \n",
      " second       | 26     \n",
      " 100th_second | 8      \n",
      " length       | 4.0    \n",
      " lane         | 2      \n",
      " direction    | 2      \n",
      " category     | 1      \n",
      " speed        | 81     \n",
      " faulty       | 0      \n",
      " total_time   | 128608 \n",
      " interval     | 26380  \n",
      " queue_start  | 0      \n",
      "-RECORD 10-------------\n",
      " lam_point_id | 1052   \n",
      " year         | 20     \n",
      " day          | 1      \n",
      " hour         | 0      \n",
      " minute       | 22     \n",
      " second       | 49     \n",
      " 100th_second | 99     \n",
      " length       | 3.8    \n",
      " lane         | 2      \n",
      " direction    | 2      \n",
      " category     | 1      \n",
      " speed        | 76     \n",
      " faulty       | 0      \n",
      " total_time   | 136999 \n",
      " interval     | 8373   \n",
      " queue_start  | 0      \n",
      "-RECORD 11-------------\n",
      " lam_point_id | 1052   \n",
      " year         | 20     \n",
      " day          | 1      \n",
      " hour         | 0      \n",
      " minute       | 23     \n",
      " second       | 2      \n",
      " 100th_second | 99     \n",
      " length       | 6.2    \n",
      " lane         | 2      \n",
      " direction    | 2      \n",
      " category     | 1      \n",
      " speed        | 80     \n",
      " faulty       | 0      \n",
      " total_time   | 138299 \n",
      " interval     | 1282   \n",
      " queue_start  | 0      \n",
      "-RECORD 12-------------\n",
      " lam_point_id | 1052   \n",
      " year         | 20     \n",
      " day          | 1      \n",
      " hour         | 0      \n",
      " minute       | 23     \n",
      " second       | 15     \n",
      " 100th_second | 99     \n",
      " length       | 3.4    \n",
      " lane         | 1      \n",
      " direction    | 1      \n",
      " category     | 1      \n",
      " speed        | 50     \n",
      " faulty       | 0      \n",
      " total_time   | 139599 \n",
      " interval     | 45505  \n",
      " queue_start  | 0      \n",
      "-RECORD 13-------------\n",
      " lam_point_id | 1052   \n",
      " year         | 20     \n",
      " day          | 1      \n",
      " hour         | 0      \n",
      " minute       | 24     \n",
      " second       | 8      \n",
      " 100th_second | 99     \n",
      " length       | 5.4    \n",
      " lane         | 2      \n",
      " direction    | 2      \n",
      " category     | 1      \n",
      " speed        | 81     \n",
      " faulty       | 0      \n",
      " total_time   | 144899 \n",
      " interval     | 6572   \n",
      " queue_start  | 0      \n",
      "-RECORD 14-------------\n",
      " lam_point_id | 1052   \n",
      " year         | 20     \n",
      " day          | 1      \n",
      " hour         | 0      \n",
      " minute       | 24     \n",
      " second       | 24     \n",
      " 100th_second | 18     \n",
      " length       | 6.0    \n",
      " lane         | 1      \n",
      " direction    | 2      \n",
      " category     | 1      \n",
      " speed        | 80     \n",
      " faulty       | 0      \n",
      " total_time   | 146418 \n",
      " interval     | -2     \n",
      " queue_start  | 0      \n",
      "-RECORD 15-------------\n",
      " lam_point_id | 1052   \n",
      " year         | 20     \n",
      " day          | 1      \n",
      " hour         | 0      \n",
      " minute       | 24     \n",
      " second       | 37     \n",
      " 100th_second | 99     \n",
      " length       | 5.8    \n",
      " lane         | 2      \n",
      " direction    | 2      \n",
      " category     | 1      \n",
      " speed        | 63     \n",
      " faulty       | 0      \n",
      " total_time   | 147799 \n",
      " interval     | 2876   \n",
      " queue_start  | 0      \n",
      "-RECORD 16-------------\n",
      " lam_point_id | 1052   \n",
      " year         | 20     \n",
      " day          | 1      \n",
      " hour         | 0      \n",
      " minute       | 24     \n",
      " second       | 36     \n",
      " 100th_second | 54     \n",
      " length       | 19.2   \n",
      " lane         | 1      \n",
      " direction    | 2      \n",
      " category     | 5      \n",
      " speed        | 68     \n",
      " faulty       | 0      \n",
      " total_time   | 147654 \n",
      " interval     | 1209   \n",
      " queue_start  | 0      \n",
      "-RECORD 17-------------\n",
      " lam_point_id | 1052   \n",
      " year         | 20     \n",
      " day          | 1      \n",
      " hour         | 0      \n",
      " minute       | 24     \n",
      " second       | 40     \n",
      " 100th_second | 37     \n",
      " length       | 5.0    \n",
      " lane         | 2      \n",
      " direction    | 2      \n",
      " category     | 1      \n",
      " speed        | 58     \n",
      " faulty       | 0      \n",
      " total_time   | 148037 \n",
      " interval     | 204    \n",
      " queue_start  | 0      \n",
      "-RECORD 18-------------\n",
      " lam_point_id | 1052   \n",
      " year         | 20     \n",
      " day          | 1      \n",
      " hour         | 0      \n",
      " minute       | 31     \n",
      " second       | 32     \n",
      " 100th_second | 70     \n",
      " length       | 4.0    \n",
      " lane         | 2      \n",
      " direction    | 2      \n",
      " category     | 1      \n",
      " speed        | 77     \n",
      " faulty       | 0      \n",
      " total_time   | 189270 \n",
      " interval     | 41201  \n",
      " queue_start  | 0      \n",
      "-RECORD 19-------------\n",
      " lam_point_id | 1052   \n",
      " year         | 20     \n",
      " day          | 1      \n",
      " hour         | 0      \n",
      " minute       | 32     \n",
      " second       | 32     \n",
      " 100th_second | 99     \n",
      " length       | 3.6    \n",
      " lane         | 1      \n",
      " direction    | 1      \n",
      " category     | 1      \n",
      " speed        | 64     \n",
      " faulty       | 0      \n",
      " total_time   | 195299 \n",
      " interval     | 55675  \n",
      " queue_start  | 0      \n",
      "only showing top 20 rows\n",
      "\n"
     ]
    }
   ],
   "source": [
    "df.show(vertical=True)"
   ]
  },
  {
   "cell_type": "code",
   "execution_count": 5,
   "metadata": {
    "ExecuteTime": {
     "end_time": "2020-05-04T20:42:01.459958Z",
     "start_time": "2020-05-04T20:42:01.451562Z"
    }
   },
   "outputs": [
    {
     "name": "stdout",
     "output_type": "stream",
     "text": [
      "root\n",
      " |-- lam_point_id: integer (nullable = true)\n",
      " |-- year: integer (nullable = true)\n",
      " |-- day: integer (nullable = true)\n",
      " |-- hour: integer (nullable = true)\n",
      " |-- minute: integer (nullable = true)\n",
      " |-- second: integer (nullable = true)\n",
      " |-- 100th_second: integer (nullable = true)\n",
      " |-- length: double (nullable = true)\n",
      " |-- lane: integer (nullable = true)\n",
      " |-- direction: integer (nullable = true)\n",
      " |-- category: integer (nullable = true)\n",
      " |-- speed: integer (nullable = true)\n",
      " |-- faulty: integer (nullable = true)\n",
      " |-- total_time: integer (nullable = true)\n",
      " |-- interval: integer (nullable = true)\n",
      " |-- queue_start: integer (nullable = true)\n",
      "\n"
     ]
    }
   ],
   "source": [
    "df.printSchema()"
   ]
  },
  {
   "cell_type": "code",
   "execution_count": 6,
   "metadata": {
    "ExecuteTime": {
     "end_time": "2020-05-04T20:42:01.574821Z",
     "start_time": "2020-05-04T20:42:01.516545Z"
    }
   },
   "outputs": [
    {
     "data": {
      "text/plain": [
       "DataFrame[lam_point_id: int]"
      ]
     },
     "execution_count": 6,
     "metadata": {},
     "output_type": "execute_result"
    }
   ],
   "source": [
    "from pyspark.sql import functions as F\n",
    "df.select(F.col(\"lam_point_id\"))"
   ]
  },
  {
   "cell_type": "code",
   "execution_count": 7,
   "metadata": {
    "ExecuteTime": {
     "end_time": "2020-05-04T20:42:02.639626Z",
     "start_time": "2020-05-04T20:42:01.576793Z"
    }
   },
   "outputs": [
    {
     "data": {
      "text/plain": [
       "1219128"
      ]
     },
     "execution_count": 7,
     "metadata": {},
     "output_type": "execute_result"
    }
   ],
   "source": [
    "df.select(\"length\").count()"
   ]
  },
  {
   "cell_type": "code",
   "execution_count": 8,
   "metadata": {
    "ExecuteTime": {
     "end_time": "2020-05-04T20:42:18.351055Z",
     "start_time": "2020-05-04T20:42:02.641281Z"
    }
   },
   "outputs": [],
   "source": [
    "import pandas as pd\n",
    "import matplotlib.pyplot as plt\n",
    "plt.style.use('seaborn-white')\n",
    "dff = df.toPandas()"
   ]
  },
  {
   "cell_type": "code",
   "execution_count": 9,
   "metadata": {
    "ExecuteTime": {
     "end_time": "2020-05-04T20:42:19.134348Z",
     "start_time": "2020-05-04T20:42:18.354761Z"
    }
   },
   "outputs": [
    {
     "data": {
      "text/plain": [
       "Text(0.5, 0, 'Day')"
      ]
     },
     "execution_count": 9,
     "metadata": {},
     "output_type": "execute_result"
    },
    {
     "data": {
      "text/plain": [
       "Text(0, 0.5, 'Amount of vehicles')"
      ]
     },
     "execution_count": 9,
     "metadata": {},
     "output_type": "execute_result"
    },
    {
     "data": {
      "image/png": "[encoded data removed]",
      "text/plain": [
       "<Figure size 432x288 with 1 Axes>"
      ]
     },
     "metadata": {
      "image/png": {
       "height": 258,
       "width": 394
      }
     },
     "output_type": "display_data"
    }
   ],
   "source": [
    "ax = dff['day'].value_counts().sort_index().plot(kind='line')\n",
    "ax.set_xlabel(\"Day\")\n",
    "ax.set_ylabel(\"Amount of vehicles\")"
   ]
  },
  {
   "cell_type": "code",
   "execution_count": 10,
   "metadata": {
    "ExecuteTime": {
     "end_time": "2020-05-04T20:42:19.138558Z",
     "start_time": "2020-05-04T20:42:19.136270Z"
    }
   },
   "outputs": [],
   "source": [
    "# for testing, do not use\n",
    "#fig, ax = plt.subplots()\n",
    "#test = dff.groupby('lam_point_id')['day'].value_counts()\n",
    "#print(test)\n",
    "#\n",
    "#dff.groupby('lam_point_id')['day'].value_counts().sort_index().plot(kind='line',x='day', ax=ax)"
   ]
  },
  {
   "cell_type": "code",
   "execution_count": null,
   "metadata": {},
   "outputs": [],
   "source": []
  }
 ],
 "metadata": {
  "kernelspec": {
   "display_name": "Python 3",
   "language": "python",
   "name": "python3"
  },
  "language_info": {
   "codemirror_mode": {
    "name": "ipython",
    "version": 3
   },
   "file_extension": ".py",
   "mimetype": "text/x-python",
   "name": "python",
   "nbconvert_exporter": "python",
   "pygments_lexer": "ipython3",
   "version": "3.6.7"
  },
  "toc": {
   "base_numbering": 1,
   "nav_menu": {},
   "number_sections": true,
   "sideBar": true,
   "skip_h1_title": false,
   "title_cell": "Table of Contents",
   "title_sidebar": "Contents",
   "toc_cell": false,
   "toc_position": {},
   "toc_section_display": true,
   "toc_window_display": false
  }
 },
 "nbformat": 4,
 "nbformat_minor": 2
}
